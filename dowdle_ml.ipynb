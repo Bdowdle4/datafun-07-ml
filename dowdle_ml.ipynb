{
 "cells": [
  {
   "cell_type": "markdown",
   "metadata": {},
   "source": [
    "# P7 Machine Learning - Linear Regression \n",
    "Brittany Dowdle   06/09/2024\n",
    "\n",
    "### [GitHub Link](https://github.com/Bdowdle4/datafun-07-ml)\n",
    "\n",
    "---"
   ]
  },
  {
   "cell_type": "markdown",
   "metadata": {},
   "source": [
    "## Import Dependencies *(At the Top, After the Introduction)*\n",
    "Follow conventional package import organization and alias.\n",
    "Import each package just once near the top of the file.\n",
    "Be sure you have **INSTALLED** any external packages *(outside the Python Standard Library)* into your active project virtual environment first."
   ]
  },
  {
   "cell_type": "code",
   "execution_count": 1,
   "metadata": {},
   "outputs": [],
   "source": [
    "import pandas as pd\n",
    "import numpy as np\n",
    "import matplotlib.pyplot as plt\n",
    "import seaborn as sns\n",
    "from scipy import stats\n",
    "import sklearn\n",
    "from sklearn.model_selection import train_test_split\n",
    "from sklearn.linear_model import LinearRegression\n"
   ]
  },
  {
   "cell_type": "markdown",
   "metadata": {},
   "source": [
    "---"
   ]
  },
  {
   "cell_type": "markdown",
   "metadata": {},
   "source": [
    "## 1 Chart a Straight Line\n",
    "Plot the fahrenheit and celcius temperatures to visualize the relationsihp between the two variables.\n",
    "\n",
    "Define variable 'c' as a lambda function that converts fahrenheit to celsius. Create a list of tuples to plot."
   ]
  },
  {
   "cell_type": "code",
   "execution_count": 2,
   "metadata": {},
   "outputs": [],
   "source": [
    "# c is celsius and f is fahrenheit\n",
    "c = lambda f: 5/9 * (f-32)\n",
    "temps = [(f,c(f)) for f in range(0, 101, 10)] "
   ]
  },
  {
   "cell_type": "code",
   "execution_count": 3,
   "metadata": {},
   "outputs": [
    {
     "data": {
      "image/png": "[encoded data removed]",
      "text/plain": [
       "<Figure size 640x480 with 1 Axes>"
      ]
     },
     "metadata": {},
     "output_type": "display_data"
    }
   ],
   "source": [
    "# create the dataframe\n",
    "temps_df = pd.DataFrame(temps, columns=['Fahrenheit', 'Celsius'])\n",
    "# plot the data\n",
    "axes = temps_df.plot(x='Fahrenheit', y='Celsius', style='.-')\n",
    "# title for y-axis\n",
    "y_label = axes.set_ylabel('Celsius')"
   ]
  },
  {
   "cell_type": "markdown",
   "metadata": {},
   "source": [
    "---"
   ]
  },
  {
   "cell_type": "markdown",
   "metadata": {},
   "source": [
    "## 2  Predict Avg High Temp in NYC in January\n",
    "\n",
    "+ Data acquisition, inspection, cleaning, and descriptive statistics.\n",
    "+ Build the model, predict, and visualizations."
   ]
  },
  {
   "cell_type": "markdown",
   "metadata": {},
   "source": [
    "### Data Acqusition\n",
    "Load the data into a suitable structure for analysis, typically a DataFrame when working with Python. Use the nyc csv file."
   ]
  },
  {
   "cell_type": "code",
   "execution_count": 4,
   "metadata": {},
   "outputs": [],
   "source": [
    "nyc_df = pd.read_csv('ave_hi_nyc_jan_1895-2018.csv')"
   ]
  },
  {
   "cell_type": "markdown",
   "metadata": {},
   "source": [
    "### Data Inspection\n",
    "Display the first 5 and last 5 rows of the DataFrame, check the shape, and display the data types of each column. This step is crucial for getting familiar with the dataset's format, size, and the type of information each column holds."
   ]
  },
  {
   "cell_type": "code",
   "execution_count": 5,
   "metadata": {},
   "outputs": [
    {
     "name": "stdout",
     "output_type": "stream",
     "text": [
      "     Date  Value  Anomaly\n",
      "0  189501   34.2     -3.2\n",
      "1  189601   34.7     -2.7\n",
      "2  189701   35.5     -1.9\n",
      "3  189801   39.6      2.2\n",
      "4  189901   36.4     -1.0\n",
      "       Date  Value  Anomaly\n",
      "119  201401   35.5     -1.9\n",
      "120  201501   36.1     -1.3\n",
      "121  201601   40.8      3.4\n",
      "122  201701   42.8      5.4\n",
      "123  201801   38.7      1.3\n",
      "(124, 3)\n",
      "Date         int64\n",
      "Value      float64\n",
      "Anomaly    float64\n",
      "dtype: object\n"
     ]
    }
   ],
   "source": [
    "print(nyc_df.head())\n",
    "print(nyc_df.tail())\n",
    "print(nyc_df.shape)\n",
    "print(nyc_df.dtypes)"
   ]
  },
  {
   "cell_type": "markdown",
   "metadata": {},
   "source": [
    "### Data Cleaning\n",
    "**It’s always wise to hold onto your original data.** Bad data values and missing values can significantly impact data analysis.\n",
    "\n",
    "Improve the column names and clean up the date series. "
   ]
  },
  {
   "cell_type": "code",
   "execution_count": 6,
   "metadata": {},
   "outputs": [
    {
     "data": {
      "text/html": [
       "<div>\n",
       "<style scoped>\n",
       "    .dataframe tbody tr th:only-of-type {\n",
       "        vertical-align: middle;\n",
       "    }\n",
       "\n",
       "    .dataframe tbody tr th {\n",
       "        vertical-align: top;\n",
       "    }\n",
       "\n",
       "    .dataframe thead th {\n",
       "        text-align: right;\n",
       "    }\n",
       "</style>\n",
       "<table border=\"1\" class=\"dataframe\">\n",
       "  <thead>\n",
       "    <tr style=\"text-align: right;\">\n",
       "      <th></th>\n",
       "      <th>Date</th>\n",
       "      <th>Temperature</th>\n",
       "      <th>Anomaly</th>\n",
       "    </tr>\n",
       "  </thead>\n",
       "  <tbody>\n",
       "    <tr>\n",
       "      <th>0</th>\n",
       "      <td>189501</td>\n",
       "      <td>34.2</td>\n",
       "      <td>-3.2</td>\n",
       "    </tr>\n",
       "    <tr>\n",
       "      <th>1</th>\n",
       "      <td>189601</td>\n",
       "      <td>34.7</td>\n",
       "      <td>-2.7</td>\n",
       "    </tr>\n",
       "    <tr>\n",
       "      <th>2</th>\n",
       "      <td>189701</td>\n",
       "      <td>35.5</td>\n",
       "      <td>-1.9</td>\n",
       "    </tr>\n",
       "  </tbody>\n",
       "</table>\n",
       "</div>"
      ],
      "text/plain": [
       "     Date  Temperature  Anomaly\n",
       "0  189501         34.2     -3.2\n",
       "1  189601         34.7     -2.7\n",
       "2  189701         35.5     -1.9"
      ]
     },
     "execution_count": 6,
     "metadata": {},
     "output_type": "execute_result"
    }
   ],
   "source": [
    "# Change \"value\" column name to \"Temperature\" \n",
    "nyc_df.columns = ['Date', 'Temperature', 'Anomaly']\n",
    "nyc_df.head(3)"
   ]
  },
  {
   "cell_type": "code",
   "execution_count": 7,
   "metadata": {},
   "outputs": [
    {
     "data": {
      "text/html": [
       "<div>\n",
       "<style scoped>\n",
       "    .dataframe tbody tr th:only-of-type {\n",
       "        vertical-align: middle;\n",
       "    }\n",
       "\n",
       "    .dataframe tbody tr th {\n",
       "        vertical-align: top;\n",
       "    }\n",
       "\n",
       "    .dataframe thead th {\n",
       "        text-align: right;\n",
       "    }\n",
       "</style>\n",
       "<table border=\"1\" class=\"dataframe\">\n",
       "  <thead>\n",
       "    <tr style=\"text-align: right;\">\n",
       "      <th></th>\n",
       "      <th>Date</th>\n",
       "      <th>Temperature</th>\n",
       "      <th>Anomaly</th>\n",
       "    </tr>\n",
       "  </thead>\n",
       "  <tbody>\n",
       "    <tr>\n",
       "      <th>0</th>\n",
       "      <td>1895</td>\n",
       "      <td>34.2</td>\n",
       "      <td>-3.2</td>\n",
       "    </tr>\n",
       "    <tr>\n",
       "      <th>1</th>\n",
       "      <td>1896</td>\n",
       "      <td>34.7</td>\n",
       "      <td>-2.7</td>\n",
       "    </tr>\n",
       "    <tr>\n",
       "      <th>2</th>\n",
       "      <td>1897</td>\n",
       "      <td>35.5</td>\n",
       "      <td>-1.9</td>\n",
       "    </tr>\n",
       "  </tbody>\n",
       "</table>\n",
       "</div>"
      ],
      "text/plain": [
       "   Date  Temperature  Anomaly\n",
       "0  1895         34.2     -3.2\n",
       "1  1896         34.7     -2.7\n",
       "2  1897         35.5     -1.9"
      ]
     },
     "execution_count": 7,
     "metadata": {},
     "output_type": "execute_result"
    }
   ],
   "source": [
    "# Remove month from \"Date\" since it is on every data point.\n",
    "nyc_df.Date = nyc_df.Date.floordiv(100)\n",
    "nyc_df.head(3)"
   ]
  },
  {
   "cell_type": "markdown",
   "metadata": {},
   "source": [
    "### Descriptive Statistics\n",
    "Use the DataFrame describe() method to display summary statistics for each numerical column. This provides insights into the distribution and central tendencies of the data, which can be crucial for identifying patterns, anomalies, or data integrity issues."
   ]
  },
  {
   "cell_type": "code",
   "execution_count": 8,
   "metadata": {},
   "outputs": [
    {
     "name": "stdout",
     "output_type": "stream",
     "text": [
      "count    124.00\n",
      "mean      37.60\n",
      "std        4.54\n",
      "min       26.10\n",
      "25%       34.58\n",
      "50%       37.60\n",
      "75%       40.60\n",
      "max       47.60\n",
      "Name: Temperature, dtype: float64\n"
     ]
    }
   ],
   "source": [
    "# Set precision for descriptive statistics\n",
    "pd.set_option('display.precision', 2)\n",
    "print(nyc_df.Temperature.describe())"
   ]
  },
  {
   "cell_type": "markdown",
   "metadata": {},
   "source": [
    "### Build the Model\n",
    "Forecasting future January average high temperatures.\n",
    "Use the SciPy stats module linregress function to calculate slope and intercept for the best fit line through the data.\n",
    "\n",
    "The simple linear regression equation is **y = mx + b**  where:\n",
    "\n",
    "• m is the line’s **slope**,\n",
    "\n",
    "• b is the line’s **intercept** with the y-axis (at x = 0),\n",
    "\n",
    "• x is the independent variable (the **date** in this example), and\n",
    "\n",
    "• y is the dependent variable (the **temperature** in this example)"
   ]
  },
  {
   "cell_type": "code",
   "execution_count": 9,
   "metadata": {},
   "outputs": [
    {
     "name": "stdout",
     "output_type": "stream",
     "text": [
      "The linear regression equation is y = 0.014771361132966163x + 8.694993233674289\n"
     ]
    }
   ],
   "source": [
    "# Use stats from scipy to run linear regression on the data set\n",
    "linear_regression = stats.linregress(x=nyc_df.Date, y=nyc_df.Temperature)\n",
    "\n",
    "# slope\n",
    "m = linear_regression.slope\n",
    "\n",
    "# intercept\n",
    "b = linear_regression.intercept\n",
    "\n",
    "# show simple linear regression equation for this example\n",
    "print(f'The linear regression equation is y = {m}x + {b}') "
   ]
  },
  {
   "cell_type": "markdown",
   "metadata": {},
   "source": [
    "### Predict\n",
    "Using simple linear regression, we draw the best-fit line and use the line to extrapolate out to past and future values.\n",
    "\n",
    "Use the linear regression model to predict the average high temperature in NYC for:\n",
    "+ 1824\n",
    "+ 2024"
   ]
  },
  {
   "cell_type": "code",
   "execution_count": 10,
   "metadata": {},
   "outputs": [
    {
     "name": "stdout",
     "output_type": "stream",
     "text": [
      "35.63795594020457\n",
      "38.5922281667978\n"
     ]
    }
   ],
   "source": [
    "print(linear_regression.slope * 1824 + linear_regression.intercept)\n",
    "print(linear_regression.slope * 2024 + linear_regression.intercept)"
   ]
  },
  {
   "cell_type": "markdown",
   "metadata": {},
   "source": [
    "### Visualizations\n",
    "We'll use Seaborn and Matplotlib to create visualizations of both our data - and our best-fit line. \n",
    "Plotting average high temperatures and a regression line, date on the x axis and the temperatures on the y-axis."
   ]
  },
  {
   "cell_type": "code",
   "execution_count": 11,
   "metadata": {},
   "outputs": [
    {
     "data": {
      "text/plain": [
       "(10.0, 70.0)"
      ]
     },
     "execution_count": 11,
     "metadata": {},
     "output_type": "execute_result"
    },
    {
     "data": {
      "image/png": "[encoded data removed]",
      "text/plain": [
       "<Figure size 640x480 with 1 Axes>"
      ]
     },
     "metadata": {},
     "output_type": "display_data"
    }
   ],
   "source": [
    "# choose how chart displays\n",
    "sns.set_style('whitegrid')\n",
    "# plot the data\n",
    "axes = sns.regplot(x=nyc_df.Date, y=nyc_df.Temperature)\n",
    "# trim the axis\n",
    "axes.set_ylim(10,70)"
   ]
  },
  {
   "cell_type": "code",
   "execution_count": 12,
   "metadata": {},
   "outputs": [
    {
     "data": {
      "text/plain": [
       "Text(0.5, 1.0, 'Average High Temperature in January in NYC')"
      ]
     },
     "execution_count": 12,
     "metadata": {},
     "output_type": "execute_result"
    },
    {
     "data": {
      "image/png": "[encoded data removed]",
      "text/plain": [
       "<Figure size 640x480 with 1 Axes>"
      ]
     },
     "metadata": {},
     "output_type": "display_data"
    }
   ],
   "source": [
    "# customize chart\n",
    "sns.set_style('darkgrid', {\"grid.color\": \".4\", \"grid.linestyle\": \"-\"})\n",
    "axes = sns.regplot(x=nyc_df.Date, y=nyc_df.Temperature, line_kws=dict(color='g'))\n",
    "axes.set_ylim(10,70)\n",
    "axes.set_title('Average High Temperature in January in NYC', size=16, color='green')"
   ]
  },
  {
   "cell_type": "markdown",
   "metadata": {},
   "source": [
    "---"
   ]
  },
  {
   "cell_type": "markdown",
   "metadata": {},
   "source": [
    "## 3 Training/Testing - Predict Avg High Temp in NYC in January\n",
    "This time, we'll use scikit-learn estimator, and we'll practice splitting data for training (to build a model) and testing (testing our model against known values).\n",
    "We can utilize the initial code from before (upload data, Change data, and change columns)."
   ]
  },
  {
   "cell_type": "markdown",
   "metadata": {},
   "source": [
    "### Data Acquisition"
   ]
  },
  {
   "cell_type": "code",
   "execution_count": 13,
   "metadata": {},
   "outputs": [],
   "source": [
    "# Initial data from part 2, using different name\n",
    "df = pd.read_csv('ave_hi_nyc_jan_1895-2018.csv')"
   ]
  },
  {
   "cell_type": "markdown",
   "metadata": {},
   "source": [
    "### Data Inspection"
   ]
  },
  {
   "cell_type": "code",
   "execution_count": 14,
   "metadata": {},
   "outputs": [
    {
     "name": "stdout",
     "output_type": "stream",
     "text": [
      "     Date  Value  Anomaly\n",
      "0  189501   34.2     -3.2\n",
      "1  189601   34.7     -2.7\n",
      "2  189701   35.5     -1.9\n",
      "       Date  Value  Anomaly\n",
      "121  201601   40.8      3.4\n",
      "122  201701   42.8      5.4\n",
      "123  201801   38.7      1.3\n",
      "(124, 3)\n",
      "Date         int64\n",
      "Value      float64\n",
      "Anomaly    float64\n",
      "dtype: object\n"
     ]
    }
   ],
   "source": [
    "print(df.head(3))\n",
    "print(df.tail(3))\n",
    "print(df.shape)\n",
    "print(df.dtypes)"
   ]
  },
  {
   "cell_type": "markdown",
   "metadata": {},
   "source": [
    "### Data Cleaning"
   ]
  },
  {
   "cell_type": "code",
   "execution_count": 15,
   "metadata": {},
   "outputs": [
    {
     "data": {
      "text/html": [
       "<div>\n",
       "<style scoped>\n",
       "    .dataframe tbody tr th:only-of-type {\n",
       "        vertical-align: middle;\n",
       "    }\n",
       "\n",
       "    .dataframe tbody tr th {\n",
       "        vertical-align: top;\n",
       "    }\n",
       "\n",
       "    .dataframe thead th {\n",
       "        text-align: right;\n",
       "    }\n",
       "</style>\n",
       "<table border=\"1\" class=\"dataframe\">\n",
       "  <thead>\n",
       "    <tr style=\"text-align: right;\">\n",
       "      <th></th>\n",
       "      <th>Date</th>\n",
       "      <th>Temperature</th>\n",
       "      <th>Anomaly</th>\n",
       "    </tr>\n",
       "  </thead>\n",
       "  <tbody>\n",
       "    <tr>\n",
       "      <th>0</th>\n",
       "      <td>1895</td>\n",
       "      <td>34.2</td>\n",
       "      <td>-3.2</td>\n",
       "    </tr>\n",
       "    <tr>\n",
       "      <th>1</th>\n",
       "      <td>1896</td>\n",
       "      <td>34.7</td>\n",
       "      <td>-2.7</td>\n",
       "    </tr>\n",
       "    <tr>\n",
       "      <th>2</th>\n",
       "      <td>1897</td>\n",
       "      <td>35.5</td>\n",
       "      <td>-1.9</td>\n",
       "    </tr>\n",
       "  </tbody>\n",
       "</table>\n",
       "</div>"
      ],
      "text/plain": [
       "   Date  Temperature  Anomaly\n",
       "0  1895         34.2     -3.2\n",
       "1  1896         34.7     -2.7\n",
       "2  1897         35.5     -1.9"
      ]
     },
     "execution_count": 15,
     "metadata": {},
     "output_type": "execute_result"
    }
   ],
   "source": [
    "# Change \"value\" column name to \"Temperature\" \n",
    "df.columns = ['Date', 'Temperature', 'Anomaly']\n",
    "\n",
    "# Remove month from \"Date\" since it is on every data point.\n",
    "df.Date = df.Date.floordiv(100)\n",
    "df.head(3)"
   ]
  },
  {
   "cell_type": "markdown",
   "metadata": {},
   "source": [
    "### Descriptive Statistics"
   ]
  },
  {
   "cell_type": "code",
   "execution_count": 16,
   "metadata": {},
   "outputs": [
    {
     "data": {
      "text/html": [
       "<div>\n",
       "<style scoped>\n",
       "    .dataframe tbody tr th:only-of-type {\n",
       "        vertical-align: middle;\n",
       "    }\n",
       "\n",
       "    .dataframe tbody tr th {\n",
       "        vertical-align: top;\n",
       "    }\n",
       "\n",
       "    .dataframe thead th {\n",
       "        text-align: right;\n",
       "    }\n",
       "</style>\n",
       "<table border=\"1\" class=\"dataframe\">\n",
       "  <thead>\n",
       "    <tr style=\"text-align: right;\">\n",
       "      <th></th>\n",
       "      <th>Date</th>\n",
       "      <th>Temperature</th>\n",
       "      <th>Anomaly</th>\n",
       "    </tr>\n",
       "  </thead>\n",
       "  <tbody>\n",
       "    <tr>\n",
       "      <th>count</th>\n",
       "      <td>124.00</td>\n",
       "      <td>124.00</td>\n",
       "      <td>124.00</td>\n",
       "    </tr>\n",
       "    <tr>\n",
       "      <th>mean</th>\n",
       "      <td>1956.50</td>\n",
       "      <td>37.60</td>\n",
       "      <td>0.20</td>\n",
       "    </tr>\n",
       "    <tr>\n",
       "      <th>std</th>\n",
       "      <td>35.94</td>\n",
       "      <td>4.54</td>\n",
       "      <td>4.54</td>\n",
       "    </tr>\n",
       "    <tr>\n",
       "      <th>min</th>\n",
       "      <td>1895.00</td>\n",
       "      <td>26.10</td>\n",
       "      <td>-11.30</td>\n",
       "    </tr>\n",
       "    <tr>\n",
       "      <th>25%</th>\n",
       "      <td>1925.75</td>\n",
       "      <td>34.58</td>\n",
       "      <td>-2.82</td>\n",
       "    </tr>\n",
       "    <tr>\n",
       "      <th>50%</th>\n",
       "      <td>1956.50</td>\n",
       "      <td>37.60</td>\n",
       "      <td>0.20</td>\n",
       "    </tr>\n",
       "    <tr>\n",
       "      <th>75%</th>\n",
       "      <td>1987.25</td>\n",
       "      <td>40.60</td>\n",
       "      <td>3.20</td>\n",
       "    </tr>\n",
       "    <tr>\n",
       "      <th>max</th>\n",
       "      <td>2018.00</td>\n",
       "      <td>47.60</td>\n",
       "      <td>10.20</td>\n",
       "    </tr>\n",
       "  </tbody>\n",
       "</table>\n",
       "</div>"
      ],
      "text/plain": [
       "          Date  Temperature  Anomaly\n",
       "count   124.00       124.00   124.00\n",
       "mean   1956.50        37.60     0.20\n",
       "std      35.94         4.54     4.54\n",
       "min    1895.00        26.10   -11.30\n",
       "25%    1925.75        34.58    -2.82\n",
       "50%    1956.50        37.60     0.20\n",
       "75%    1987.25        40.60     3.20\n",
       "max    2018.00        47.60    10.20"
      ]
     },
     "execution_count": 16,
     "metadata": {},
     "output_type": "execute_result"
    }
   ],
   "source": [
    "df.describe()"
   ]
  },
  {
   "cell_type": "markdown",
   "metadata": {},
   "source": [
    "### Build the Model"
   ]
  },
  {
   "cell_type": "code",
   "execution_count": 17,
   "metadata": {},
   "outputs": [
    {
     "name": "stdout",
     "output_type": "stream",
     "text": [
      "(93, 1)\n",
      "(31, 1)\n"
     ]
    }
   ],
   "source": [
    "# Split data into training and testing\n",
    "x_train, x_test, y_train, y_test =train_test_split(df.Date.values.reshape(-1,1), df.Temperature.values, random_state=11)\n",
    "\n",
    "# shape of training set\n",
    "x_train.shape\n",
    "print(x_train.shape)\n",
    "\n",
    "# shape of testing set\n",
    "x_test.shape\n",
    "print(x_test.shape)"
   ]
  },
  {
   "cell_type": "code",
   "execution_count": 18,
   "metadata": {},
   "outputs": [
    {
     "name": "stdout",
     "output_type": "stream",
     "text": [
      "The linear regression equation is y = [0.01939167]x + -0.30779820252656975\n"
     ]
    }
   ],
   "source": [
    "# Train the model using the training set\n",
    "linear_regression = LinearRegression()\n",
    "linear_regression.fit(x_train, y_train)\n",
    "\n",
    "# slope of model\n",
    "m = linear_regression.coef_\n",
    "\n",
    "# intercept of model\n",
    "b = linear_regression.intercept_\n",
    "\n",
    "# show simple linear regression equation for this example\n",
    "print(f'The linear regression equation is y = {m}x + {b}') "
   ]
  },
  {
   "cell_type": "markdown",
   "metadata": {},
   "source": [
    "### Test the Model"
   ]
  },
  {
   "cell_type": "code",
   "execution_count": 19,
   "metadata": {},
   "outputs": [
    {
     "name": "stdout",
     "output_type": "stream",
     "text": [
      "predicted: 37.86, expected: 31.70\n",
      "predicted: 38.69, expected: 34.80\n",
      "predicted: 37.00, expected: 39.40\n",
      "predicted: 37.25, expected: 45.70\n",
      "predicted: 38.05, expected: 32.30\n",
      "predicted: 37.64, expected: 33.80\n",
      "predicted: 36.94, expected: 39.70\n"
     ]
    }
   ],
   "source": [
    "# Predict the temperature using the testing set\n",
    "predicted = linear_regression.predict(x_test)\n",
    "expected = y_test\n",
    "\n",
    "# show the predicted and expected values\n",
    "for p, e in zip(predicted[::5], expected [::5]):\n",
    "    print(f'predicted: {p:.2f}, expected: {e:.2f}')"
   ]
  },
  {
   "cell_type": "markdown",
   "metadata": {},
   "source": [
    "### Predict"
   ]
  },
  {
   "cell_type": "code",
   "execution_count": 20,
   "metadata": {},
   "outputs": [
    {
     "name": "stdout",
     "output_type": "stream",
     "text": [
      "[35.06261389]\n",
      "[38.94094855]\n"
     ]
    }
   ],
   "source": [
    "# Use your model to predict the \"average high temp in Jan\" for the year 1824 and 2024\n",
    "# Predict Function\n",
    "predict = (lambda x: linear_regression.coef_*x+\n",
    "           linear_regression.intercept_)\n",
    "\n",
    "print(predict(1824))\n",
    "print(predict(2024))"
   ]
  },
  {
   "cell_type": "markdown",
   "metadata": {},
   "source": [
    "### Visualizations"
   ]
  },
  {
   "cell_type": "code",
   "execution_count": 21,
   "metadata": {},
   "outputs": [
    {
     "data": {
      "text/plain": [
       "Text(0.5, 1.0, 'Average High Temperature in January in NYC')"
      ]
     },
     "execution_count": 21,
     "metadata": {},
     "output_type": "execute_result"
    },
    {
     "data": {
      "image/png": "[encoded data removed]",
      "text/plain": [
       "<Figure size 640x480 with 1 Axes>"
      ]
     },
     "metadata": {},
     "output_type": "display_data"
    }
   ],
   "source": [
    "# Use Seaborn to generate a scatter plot with a best fit line.\n",
    "# create scatterplot\n",
    "axes = sns.scatterplot(data=df, x='Date', y='Temperature', hue='Temperature', palette='winter', legend=False)\n",
    "# trim the axes\n",
    "axes.set_ylim(10, 70)\n",
    "# build array\n",
    "x = np.array([min(df.Date.values), max(df.Date.values)])\n",
    "# predict values for array\n",
    "y = predict(x)\n",
    "# add regression line\n",
    "line = plt.plot(x, y)\n",
    "# add title to chart\n",
    "axes.set_title('Average High Temperature in January in NYC', size=16, color='green')"
   ]
  },
  {
   "cell_type": "markdown",
   "metadata": {},
   "source": [
    "---"
   ]
  },
  {
   "cell_type": "markdown",
   "metadata": {},
   "source": [
    "### 4 Add Your Insights \n",
    "**Compare the two methods.**\n",
    "\n",
    "Using stats.linregress from the SciPy library and LinearRegression from the Scikit-Learn library. Both methods were applied to the same dataset. Some findings of each method are below:\n",
    "\n",
    "+ SciPy is straightforward to use for simple linear regression and returns several useful statistics, including the slope, intercept, r-value, p-value, and standard error. It is ideal for quick and easy regression analysis. The simplicity of the output is beneficial for basic statistical analysis and understanding the relationship between variables.\n",
    "\n",
    "+ Scikit-Learn provides a more comprehensive and flexible framework for building predictive models. The method is used by fitting the model to the data and then predicting or analyzing the results. This approach is more involved but offers greater flexibility for further analysis and model tuning. It allows for more advanced features such as cross-validation, model selection, and pipeline integration.\n",
    "\n",
    "Both SciPy and Scikit-Learn provide reliable methods for performing simple linear regression. The choice between them depends on the specific needs of the analysis:\n",
    "\n",
    "+ SciPy is better suited for quick, straightforward regression analysis with easy access to statistical details.\n",
    "\n",
    "+ Scikit-Learn is more appropriate for comprehensive modeling tasks where additional features, flexibility, and integration with machine learning workflows are required.\n",
    "\n",
    "\n",
    ">\n",
    ">**Summary**\n",
    ">\n",
    ">The scatterplots created display the average high temperatures in January in New York City over a period from the late 1800s to around 2020. Here are the key observations:\n",
    ">\n",
    ">+ There is a slight upward trend in the average high temperatures over the years, as indicated by the regression line. >This suggests a gradual increase in January temperatures in NYC over the observed period. While the fit is not perfect due to the variability of the data, it provides a useful summary of the general direction of temperature changes.\n",
    ">\n",
    ">+ The temperatures range approximately from 20°F to 60°F. There appears to be a clustering of data points around the 30°F to 40°F range, indicating that these are the most common reported temperatures.\n",
    ">\n",
    ">Presenting results from both SciPy and Scikit-Learn methods allowed me to compare and contrast different analytical ..approaches. It demonstrates the consistency of findings across different statistical tools and provides a robust validation of the results. Visual representations are often more effective at communicating complex data insights than raw numbers. They make it easier for a broad audience, including those without a strong statistical background, to grasp the key findings and implications. Using the regression equation, the audience could make predictions about future temperatures. This can be useful for planning and decision-making in various sectors, such as agriculture, urban planning, and climate research. \n",
    ">\n",
    "\n"
   ]
  }
 ],
 "metadata": {
  "kernelspec": {
   "display_name": ".venv",
   "language": "python",
   "name": "python3"
  },
  "language_info": {
   "codemirror_mode": {
    "name": "ipython",
    "version": 3
   },
   "file_extension": ".py",
   "mimetype": "text/x-python",
   "name": "python",
   "nbconvert_exporter": "python",
   "pygments_lexer": "ipython3",
   "version": "3.12.3"
  }
 },
 "nbformat": 4,
 "nbformat_minor": 2
}
